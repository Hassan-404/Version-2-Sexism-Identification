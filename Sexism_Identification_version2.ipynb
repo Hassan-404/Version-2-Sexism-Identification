{
  "nbformat": 4,
  "nbformat_minor": 0,
  "metadata": {
    "colab": {
      "provenance": [],
      "collapsed_sections": [
        "vjmuw6CDK3xV"
      ],
      "toc_visible": true
    },
    "kernelspec": {
      "name": "python3",
      "display_name": "Python 3"
    },
    "language_info": {
      "name": "python"
    }
  },
  "cells": [
    {
      "cell_type": "markdown",
      "source": [
        "# Data Preperation and Curation"
      ],
      "metadata": {
        "id": "pECXe_mNKqtz"
      }
    },
    {
      "cell_type": "code",
      "execution_count": 1,
      "metadata": {
        "colab": {
          "base_uri": "https://localhost:8080/",
          "height": 142
        },
        "id": "HEaoDTB9-GB8",
        "outputId": "e8fa41fb-c946-4ae1-b666-da40b457ed92"
      },
      "outputs": [
        {
          "output_type": "display_data",
          "data": {
            "text/plain": [
              "<IPython.core.display.HTML object>"
            ],
            "text/html": [
              "\n",
              "     <input type=\"file\" id=\"files-bdd51373-80dc-4222-a124-ea1c59ba3a55\" name=\"files[]\" multiple disabled\n",
              "        style=\"border:none\" />\n",
              "     <output id=\"result-bdd51373-80dc-4222-a124-ea1c59ba3a55\">\n",
              "      Upload widget is only available when the cell has been executed in the\n",
              "      current browser session. Please rerun this cell to enable.\n",
              "      </output>\n",
              "      <script>// Copyright 2017 Google LLC\n",
              "//\n",
              "// Licensed under the Apache License, Version 2.0 (the \"License\");\n",
              "// you may not use this file except in compliance with the License.\n",
              "// You may obtain a copy of the License at\n",
              "//\n",
              "//      http://www.apache.org/licenses/LICENSE-2.0\n",
              "//\n",
              "// Unless required by applicable law or agreed to in writing, software\n",
              "// distributed under the License is distributed on an \"AS IS\" BASIS,\n",
              "// WITHOUT WARRANTIES OR CONDITIONS OF ANY KIND, either express or implied.\n",
              "// See the License for the specific language governing permissions and\n",
              "// limitations under the License.\n",
              "\n",
              "/**\n",
              " * @fileoverview Helpers for google.colab Python module.\n",
              " */\n",
              "(function(scope) {\n",
              "function span(text, styleAttributes = {}) {\n",
              "  const element = document.createElement('span');\n",
              "  element.textContent = text;\n",
              "  for (const key of Object.keys(styleAttributes)) {\n",
              "    element.style[key] = styleAttributes[key];\n",
              "  }\n",
              "  return element;\n",
              "}\n",
              "\n",
              "// Max number of bytes which will be uploaded at a time.\n",
              "const MAX_PAYLOAD_SIZE = 100 * 1024;\n",
              "\n",
              "function _uploadFiles(inputId, outputId) {\n",
              "  const steps = uploadFilesStep(inputId, outputId);\n",
              "  const outputElement = document.getElementById(outputId);\n",
              "  // Cache steps on the outputElement to make it available for the next call\n",
              "  // to uploadFilesContinue from Python.\n",
              "  outputElement.steps = steps;\n",
              "\n",
              "  return _uploadFilesContinue(outputId);\n",
              "}\n",
              "\n",
              "// This is roughly an async generator (not supported in the browser yet),\n",
              "// where there are multiple asynchronous steps and the Python side is going\n",
              "// to poll for completion of each step.\n",
              "// This uses a Promise to block the python side on completion of each step,\n",
              "// then passes the result of the previous step as the input to the next step.\n",
              "function _uploadFilesContinue(outputId) {\n",
              "  const outputElement = document.getElementById(outputId);\n",
              "  const steps = outputElement.steps;\n",
              "\n",
              "  const next = steps.next(outputElement.lastPromiseValue);\n",
              "  return Promise.resolve(next.value.promise).then((value) => {\n",
              "    // Cache the last promise value to make it available to the next\n",
              "    // step of the generator.\n",
              "    outputElement.lastPromiseValue = value;\n",
              "    return next.value.response;\n",
              "  });\n",
              "}\n",
              "\n",
              "/**\n",
              " * Generator function which is called between each async step of the upload\n",
              " * process.\n",
              " * @param {string} inputId Element ID of the input file picker element.\n",
              " * @param {string} outputId Element ID of the output display.\n",
              " * @return {!Iterable<!Object>} Iterable of next steps.\n",
              " */\n",
              "function* uploadFilesStep(inputId, outputId) {\n",
              "  const inputElement = document.getElementById(inputId);\n",
              "  inputElement.disabled = false;\n",
              "\n",
              "  const outputElement = document.getElementById(outputId);\n",
              "  outputElement.innerHTML = '';\n",
              "\n",
              "  const pickedPromise = new Promise((resolve) => {\n",
              "    inputElement.addEventListener('change', (e) => {\n",
              "      resolve(e.target.files);\n",
              "    });\n",
              "  });\n",
              "\n",
              "  const cancel = document.createElement('button');\n",
              "  inputElement.parentElement.appendChild(cancel);\n",
              "  cancel.textContent = 'Cancel upload';\n",
              "  const cancelPromise = new Promise((resolve) => {\n",
              "    cancel.onclick = () => {\n",
              "      resolve(null);\n",
              "    };\n",
              "  });\n",
              "\n",
              "  // Wait for the user to pick the files.\n",
              "  const files = yield {\n",
              "    promise: Promise.race([pickedPromise, cancelPromise]),\n",
              "    response: {\n",
              "      action: 'starting',\n",
              "    }\n",
              "  };\n",
              "\n",
              "  cancel.remove();\n",
              "\n",
              "  // Disable the input element since further picks are not allowed.\n",
              "  inputElement.disabled = true;\n",
              "\n",
              "  if (!files) {\n",
              "    return {\n",
              "      response: {\n",
              "        action: 'complete',\n",
              "      }\n",
              "    };\n",
              "  }\n",
              "\n",
              "  for (const file of files) {\n",
              "    const li = document.createElement('li');\n",
              "    li.append(span(file.name, {fontWeight: 'bold'}));\n",
              "    li.append(span(\n",
              "        `(${file.type || 'n/a'}) - ${file.size} bytes, ` +\n",
              "        `last modified: ${\n",
              "            file.lastModifiedDate ? file.lastModifiedDate.toLocaleDateString() :\n",
              "                                    'n/a'} - `));\n",
              "    const percent = span('0% done');\n",
              "    li.appendChild(percent);\n",
              "\n",
              "    outputElement.appendChild(li);\n",
              "\n",
              "    const fileDataPromise = new Promise((resolve) => {\n",
              "      const reader = new FileReader();\n",
              "      reader.onload = (e) => {\n",
              "        resolve(e.target.result);\n",
              "      };\n",
              "      reader.readAsArrayBuffer(file);\n",
              "    });\n",
              "    // Wait for the data to be ready.\n",
              "    let fileData = yield {\n",
              "      promise: fileDataPromise,\n",
              "      response: {\n",
              "        action: 'continue',\n",
              "      }\n",
              "    };\n",
              "\n",
              "    // Use a chunked sending to avoid message size limits. See b/62115660.\n",
              "    let position = 0;\n",
              "    do {\n",
              "      const length = Math.min(fileData.byteLength - position, MAX_PAYLOAD_SIZE);\n",
              "      const chunk = new Uint8Array(fileData, position, length);\n",
              "      position += length;\n",
              "\n",
              "      const base64 = btoa(String.fromCharCode.apply(null, chunk));\n",
              "      yield {\n",
              "        response: {\n",
              "          action: 'append',\n",
              "          file: file.name,\n",
              "          data: base64,\n",
              "        },\n",
              "      };\n",
              "\n",
              "      let percentDone = fileData.byteLength === 0 ?\n",
              "          100 :\n",
              "          Math.round((position / fileData.byteLength) * 100);\n",
              "      percent.textContent = `${percentDone}% done`;\n",
              "\n",
              "    } while (position < fileData.byteLength);\n",
              "  }\n",
              "\n",
              "  // All done.\n",
              "  yield {\n",
              "    response: {\n",
              "      action: 'complete',\n",
              "    }\n",
              "  };\n",
              "}\n",
              "\n",
              "scope.google = scope.google || {};\n",
              "scope.google.colab = scope.google.colab || {};\n",
              "scope.google.colab._files = {\n",
              "  _uploadFiles,\n",
              "  _uploadFilesContinue,\n",
              "};\n",
              "})(self);\n",
              "</script> "
            ]
          },
          "metadata": {}
        },
        {
          "output_type": "stream",
          "name": "stdout",
          "text": [
            "Saving EXIST2023_dev.json to EXIST2023_dev.json\n",
            "Saving EXIST2023_test_clean.json to EXIST2023_test_clean.json\n",
            "Saving EXIST2023_training.json to EXIST2023_training.json\n"
          ]
        }
      ],
      "source": [
        "from google.colab import files\n",
        "uploaded = files.upload()"
      ]
    },
    {
      "cell_type": "code",
      "source": [
        "import pandas as pd\n",
        "import numpy as np\n",
        "\n",
        "training_set = pd.read_json(\"EXIST2023_training.json\")\n",
        "dev_set = pd.read_json(\"EXIST2023_dev.json\")\n",
        "test_set = pd.read_json(\"EXIST2023_test_clean.json\")"
      ],
      "metadata": {
        "id": "heloTzp1-aQ8"
      },
      "execution_count": 2,
      "outputs": []
    },
    {
      "cell_type": "code",
      "source": [
        "tweets_d = []\n",
        "labels_d = []\n",
        "sexism_d = []\n",
        "tLabels_d = []\n",
        "sLabels_d = []\n",
        "otherLang_d = 0\n",
        "english_d = 0\n",
        "id_d = []\n",
        "sexId_d = []\n",
        "\n",
        "for i in dev_set:  \n",
        "  countY = 0\n",
        "  countN = 0\n",
        "\n",
        "  if (i < 200000) or (i >= 203260 and i <=400001) :\n",
        "    continue\n",
        "  id_d.append(int(i))\n",
        "\n",
        "  tweets_d.append(dev_set[i].tweet)\n",
        "\n",
        "  for l in dev_set[i].labels_task1:\n",
        "    if l == 'YES':\n",
        "      countY +=1\n",
        "    if l == 'NO':\n",
        "      countN +=1\n",
        "  if countY == countN :\n",
        "    labels_d.append(-1)\n",
        "  elif countY > countN:\n",
        "    labels_d.append(1)\n",
        "    sexId_d.append(i)\n",
        "    sexism_d.append(dev_set[i].tweet)\n",
        "    tune = {\n",
        "        \"REPORTED\": 0, \"JUDGEMENTAL\": 0, \"DIRECT\": 0\n",
        "    }\n",
        "    sense = {\n",
        "        \"MISOGYNY-NON-SEXUAL-VIOLENCE\":0,\n",
        "        \"IDEOLOGICAL-INEQUALITY\": 0, \n",
        "        \"STEREOTYPING-DOMINANCE\": 0, \n",
        "        \"OBJECTIFICATION\": 0, \n",
        "        \"SEXUAL-VIOLENCE\":0, \n",
        "        \"-1\":0\n",
        "    }\n",
        "    for m in dev_set[i].labels_task2:\n",
        "      if m == 'REPORTED':\n",
        "        tune[\"REPORTED\"] +=1\n",
        "      if m == 'JUDGEMENTAL':\n",
        "        tune[\"JUDGEMENTAL\"] +=1\n",
        "      if m == 'DIRECT':\n",
        "        tune[\"DIRECT\"] +=1 \n",
        "    tLabels_d.append(max(tune, key=tune.get))\n",
        "\n",
        "    for n in dev_set[i].labels_task3:\n",
        "\n",
        "      if n[0] == 'MISOGYNY-NON-SEXUAL-VIOLENCE':\n",
        "        sense[\"MISOGYNY-NON-SEXUAL-VIOLENCE\"] +=1\n",
        "      if n[0] == 'IDEOLOGICAL-INEQUALITY':\n",
        "        sense[\"IDEOLOGICAL-INEQUALITY\"] +=1\n",
        "      if n[0] == 'STEREOTYPING-DOMINANCE':\n",
        "        sense[\"STEREOTYPING-DOMINANCE\"] +=1\n",
        "      if n[0] == 'OBJECTIFICATION':\n",
        "        sense[\"OBJECTIFICATION\"] +=1\n",
        "      if n[0] == 'SEXUAL-VIOLENCE':\n",
        "        sense[\"SEXUAL-VIOLENCE\"] +=1\n",
        "      if n[0] == '-':\n",
        "        sense[\"-1\"] +=1\n",
        "\n",
        "    sLabels_d.append(max(sense, key=sense.get))\n",
        "  else:\n",
        "    labels_d.append(0)\n",
        "\n"
      ],
      "metadata": {
        "id": "rppgLAia-qsw"
      },
      "execution_count": 3,
      "outputs": []
    },
    {
      "cell_type": "code",
      "source": [
        "tweets = []\n",
        "labels = []\n",
        "sexism = []\n",
        "tLabels = []\n",
        "sLabels = []\n",
        "otherLang = 0\n",
        "english = 0\n",
        "id = []\n",
        "sexId = []\n",
        "\n",
        "for i in training_set :  \n",
        "  countY = 0\n",
        "  countN = 0\n",
        "\n",
        "  if (i < 200000) or (i >= 203260 and i <=400001) :\n",
        "    continue\n",
        "  id.append(int(i))\n",
        "  # print(detect(df[i].tweet))\n",
        "  tweets.append(training_set[i].tweet)\n",
        "\n",
        "\n",
        "  for l in training_set[i].labels_task1:\n",
        "    if l == 'YES':\n",
        "      countY +=1\n",
        "    if l == 'NO':\n",
        "      countN +=1\n",
        "  if countY == countN :\n",
        "    labels.append(-1)\n",
        "  elif countY > countN:\n",
        "    labels.append(1)\n",
        "    sexId.append(i)\n",
        "    sexism.append(training_set[i].tweet)\n",
        "    tune = {\n",
        "        \"REPORTED\": 0, \"JUDGEMENTAL\": 0, \"DIRECT\": 0\n",
        "    }\n",
        "    sense = {\n",
        "        \"MISOGYNY-NON-SEXUAL-VIOLENCE\":0,\n",
        "        \"IDEOLOGICAL-INEQUALITY\": 0, \n",
        "        \"STEREOTYPING-DOMINANCE\": 0, \n",
        "        \"OBJECTIFICATION\": 0, \n",
        "        \"SEXUAL-VIOLENCE\":0, \n",
        "        \"-1\":0\n",
        "    }\n",
        "    for m in training_set[i].labels_task2:\n",
        "      if m == 'REPORTED':\n",
        "        tune[\"REPORTED\"] +=1\n",
        "      if m == 'JUDGEMENTAL':\n",
        "        tune[\"JUDGEMENTAL\"] +=1\n",
        "      if m == 'DIRECT':\n",
        "        tune[\"DIRECT\"] +=1 \n",
        "    tLabels.append(max(tune, key=tune.get))\n",
        "\n",
        "    for n in training_set[i].labels_task3:\n",
        "\n",
        "      if n[0] == 'MISOGYNY-NON-SEXUAL-VIOLENCE':\n",
        "        sense[\"MISOGYNY-NON-SEXUAL-VIOLENCE\"] +=1\n",
        "      if n[0] == 'IDEOLOGICAL-INEQUALITY':\n",
        "        sense[\"IDEOLOGICAL-INEQUALITY\"] +=1\n",
        "      if n[0] == 'STEREOTYPING-DOMINANCE':\n",
        "        sense[\"STEREOTYPING-DOMINANCE\"] +=1\n",
        "      if n[0] == 'OBJECTIFICATION':\n",
        "        sense[\"OBJECTIFICATION\"] +=1\n",
        "      if n[0] == 'SEXUAL-VIOLENCE':\n",
        "        sense[\"SEXUAL-VIOLENCE\"] +=1\n",
        "      if n[0] == '-':\n",
        "        sense[\"-1\"] +=1\n",
        "\n",
        "    sLabels.append(max(sense, key=sense.get))\n",
        "  else:\n",
        "    labels.append(0)"
      ],
      "metadata": {
        "id": "UEX1BC-b-t6O"
      },
      "execution_count": 4,
      "outputs": []
    },
    {
      "cell_type": "code",
      "source": [
        "test_tweets = []\n",
        "tweet_id_t = []\n",
        "for i in test_set:\n",
        "  if i < 600000:\n",
        "    continue\n",
        "  tweet_id_t.append(i)\n",
        "  test_tweets.append(test_set[i].tweet)"
      ],
      "metadata": {
        "id": "us5RWiQK-0mf"
      },
      "execution_count": 5,
      "outputs": []
    },
    {
      "cell_type": "code",
      "source": [
        "df_tweets = pd.DataFrame(\n",
        "    {'id': id,\n",
        "     'tweets': tweets,\n",
        "     'label': labels,\n",
        "    })\n",
        "\n",
        "df_sexism = pd.DataFrame(\n",
        "    {'id': sexId,\n",
        "     'sexism': sexism,\n",
        "     'label': sLabels,\n",
        "    })\n",
        "\n",
        "dev_tweets = pd.DataFrame( \n",
        "    {\n",
        "        'id': id_d,\n",
        "     'tweets': tweets_d,\n",
        "     'label': labels_d,\n",
        "    })\n",
        "\n",
        "dev_sexism = pd.DataFrame(\n",
        "    {'id': sexId_d,\n",
        "     'sexism': sexism_d,\n",
        "     'label': sLabels_d\n",
        "    })\n",
        "\n",
        "test_set = pd.DataFrame(\n",
        "    {\n",
        "        \"id\": tweet_id_t,\n",
        "        \"tweet\": test_tweets\n",
        "    }\n",
        ")"
      ],
      "metadata": {
        "id": "ovrJLIOC-2e6"
      },
      "execution_count": 6,
      "outputs": []
    },
    {
      "cell_type": "code",
      "source": [
        "from nltk.tokenize import word_tokenize\n",
        "from nltk.stem.porter import *\n",
        "from nltk.corpus import stopwords\n",
        "import nltk\n",
        "nltk.download('stopwords')\n",
        "\n",
        "## 1. Removal of punctuation and capitlization\n",
        "## 2. Tokenizing\n",
        "## 3. Removal of stopwords\n",
        "## 4. Stemming\n",
        "\n",
        "stopwords = nltk.corpus.stopwords.words(\"english\")\n",
        "\n",
        "#extending the stopwords to include other words used in twitter such as retweet(rt) etc.\n",
        "other_exclusions = [\"#ff\", \"ff\", \"rt\"]\n",
        "stopwords.extend(other_exclusions)\n",
        "stemmer = PorterStemmer()\n",
        "\n",
        "def data_cleansing(tweet):  \n",
        "    \n",
        "    # removal of extra spaces\n",
        "    re_pattern = re.compile(r'\\s+')\n",
        "    spaceRefined = tweet.str.replace(re_pattern, ' ')\n",
        "\n",
        "    # removal of @name[mention]\n",
        "    re_pattern = re.compile(r'@[\\w\\-]+')\n",
        "    usernameRefined = spaceRefined.str.replace(re_pattern, '')\n",
        "\n",
        "    # removal of links[https://abc.com]\n",
        "    re_pattern =  re.compile('http[s]?://(?:[a-zA-Z]|[0-9]|[$-_@.&+]|'\n",
        "            '[!*\\(\\),]|(?:%[0-9a-fA-F][0-9a-fA-F]))+')\n",
        "    tweets = usernameRefined.str.replace(re_pattern, '')\n",
        "    \n",
        "    # removal of punctuations and numbers\n",
        "    puncRefined = tweets.str.replace(\"[^a-zA-Z]\", \" \")\n",
        "    # remove whitespace with a single space\n",
        "    newtweet = puncRefined.str.replace(r'\\s+', ' ')\n",
        "    # remove leading and trailing whitespace\n",
        "    newtweet = newtweet.str.replace(r'^\\s+|\\s+?$','')\n",
        "    # replace normal numbers with numbr\n",
        "    newtweet=newtweet.str.replace(r'\\d+(\\.\\d+)?','numbr')\n",
        "    # removal of capitalization\n",
        "    tweet_lower = newtweet.str.lower()\n",
        "    \n",
        "    # tokenizing\n",
        "    tokenized_tweet = tweet_lower.apply(lambda x: x.split())\n",
        "    \n",
        "    # removal of stopwords\n",
        "    tokenized_tweet=  tokenized_tweet.apply(lambda x: [item for item in x if item not in stopwords])\n",
        "    \n",
        "    # stemming of the tweets\n",
        "    tokenized_tweet = tokenized_tweet.apply(lambda x: [stemmer.stem(i) for i in x]) \n",
        "    \n",
        "    for i in range(len(tokenized_tweet)):\n",
        "        tokenized_tweet[i] = ' '.join(tokenized_tweet[i])\n",
        "        tweets_p= tokenized_tweet\n",
        "    \n",
        "    return tweets_p"
      ],
      "metadata": {
        "colab": {
          "base_uri": "https://localhost:8080/"
        },
        "id": "d_Z2yn8O_iUb",
        "outputId": "79ced529-61fd-4c32-adf3-883a0f808b78"
      },
      "execution_count": 7,
      "outputs": [
        {
          "output_type": "stream",
          "name": "stderr",
          "text": [
            "[nltk_data] Downloading package stopwords to /root/nltk_data...\n",
            "[nltk_data]   Unzipping corpora/stopwords.zip.\n"
          ]
        }
      ]
    },
    {
      "cell_type": "code",
      "source": [
        "refinedTweets = data_cleansing(df_tweets.tweets)   \n",
        "df_tweets['processed_tweets'] = refinedTweets\n",
        "# print(df_tweets[[\"tweets\",\"processed_tweets\"]].head(10))"
      ],
      "metadata": {
        "colab": {
          "base_uri": "https://localhost:8080/"
        },
        "id": "K0g1t_aSACbO",
        "outputId": "c0e84210-62c8-40d0-e8a3-3315ad351f50"
      },
      "execution_count": 8,
      "outputs": [
        {
          "output_type": "stream",
          "name": "stderr",
          "text": [
            "<ipython-input-7-8b565ef38886>:35: FutureWarning: The default value of regex will change from True to False in a future version.\n",
            "  puncRefined = tweets.str.replace(\"[^a-zA-Z]\", \" \")\n",
            "<ipython-input-7-8b565ef38886>:37: FutureWarning: The default value of regex will change from True to False in a future version.\n",
            "  newtweet = puncRefined.str.replace(r'\\s+', ' ')\n",
            "<ipython-input-7-8b565ef38886>:39: FutureWarning: The default value of regex will change from True to False in a future version.\n",
            "  newtweet = newtweet.str.replace(r'^\\s+|\\s+?$','')\n",
            "<ipython-input-7-8b565ef38886>:41: FutureWarning: The default value of regex will change from True to False in a future version.\n",
            "  newtweet=newtweet.str.replace(r'\\d+(\\.\\d+)?','numbr')\n"
          ]
        }
      ]
    },
    {
      "cell_type": "code",
      "source": [
        "refinedTweets = data_cleansing(dev_tweets.tweets)   \n",
        "dev_tweets['processed_tweets'] = refinedTweets\n",
        "# print(dev_tweets[[\"tweets\",\"processed_tweets\"]].tail(10))"
      ],
      "metadata": {
        "colab": {
          "base_uri": "https://localhost:8080/"
        },
        "id": "Z-OfcnVpAEpw",
        "outputId": "336085e0-d9ce-4a22-d63b-54496d021757"
      },
      "execution_count": 9,
      "outputs": [
        {
          "output_type": "stream",
          "name": "stderr",
          "text": [
            "<ipython-input-7-8b565ef38886>:35: FutureWarning: The default value of regex will change from True to False in a future version.\n",
            "  puncRefined = tweets.str.replace(\"[^a-zA-Z]\", \" \")\n",
            "<ipython-input-7-8b565ef38886>:37: FutureWarning: The default value of regex will change from True to False in a future version.\n",
            "  newtweet = puncRefined.str.replace(r'\\s+', ' ')\n",
            "<ipython-input-7-8b565ef38886>:39: FutureWarning: The default value of regex will change from True to False in a future version.\n",
            "  newtweet = newtweet.str.replace(r'^\\s+|\\s+?$','')\n",
            "<ipython-input-7-8b565ef38886>:41: FutureWarning: The default value of regex will change from True to False in a future version.\n",
            "  newtweet=newtweet.str.replace(r'\\d+(\\.\\d+)?','numbr')\n"
          ]
        }
      ]
    },
    {
      "cell_type": "code",
      "source": [
        "refinedTweets = data_cleansing(df_sexism.sexism)   \n",
        "df_sexism['processed_tweets'] = refinedTweets"
      ],
      "metadata": {
        "colab": {
          "base_uri": "https://localhost:8080/"
        },
        "id": "IP35DgsYbqAy",
        "outputId": "ecaf6810-a7c5-4da1-e572-497dece12735"
      },
      "execution_count": 10,
      "outputs": [
        {
          "output_type": "stream",
          "name": "stderr",
          "text": [
            "<ipython-input-7-8b565ef38886>:35: FutureWarning: The default value of regex will change from True to False in a future version.\n",
            "  puncRefined = tweets.str.replace(\"[^a-zA-Z]\", \" \")\n",
            "<ipython-input-7-8b565ef38886>:37: FutureWarning: The default value of regex will change from True to False in a future version.\n",
            "  newtweet = puncRefined.str.replace(r'\\s+', ' ')\n",
            "<ipython-input-7-8b565ef38886>:39: FutureWarning: The default value of regex will change from True to False in a future version.\n",
            "  newtweet = newtweet.str.replace(r'^\\s+|\\s+?$','')\n",
            "<ipython-input-7-8b565ef38886>:41: FutureWarning: The default value of regex will change from True to False in a future version.\n",
            "  newtweet=newtweet.str.replace(r'\\d+(\\.\\d+)?','numbr')\n"
          ]
        }
      ]
    },
    {
      "cell_type": "code",
      "source": [
        "refinedTweets = data_cleansing(dev_sexism.sexism)   \n",
        "dev_sexism['processed_tweets'] = refinedTweets\n",
        "# print(dev_tweets[[\"tweets\",\"processed_tweets\"]].head(10))"
      ],
      "metadata": {
        "colab": {
          "base_uri": "https://localhost:8080/"
        },
        "id": "0YAB14t0Wt9A",
        "outputId": "4566b0a6-099b-4db4-cc7e-4e3d20a4bd9b"
      },
      "execution_count": 11,
      "outputs": [
        {
          "output_type": "stream",
          "name": "stderr",
          "text": [
            "<ipython-input-7-8b565ef38886>:35: FutureWarning: The default value of regex will change from True to False in a future version.\n",
            "  puncRefined = tweets.str.replace(\"[^a-zA-Z]\", \" \")\n",
            "<ipython-input-7-8b565ef38886>:37: FutureWarning: The default value of regex will change from True to False in a future version.\n",
            "  newtweet = puncRefined.str.replace(r'\\s+', ' ')\n",
            "<ipython-input-7-8b565ef38886>:39: FutureWarning: The default value of regex will change from True to False in a future version.\n",
            "  newtweet = newtweet.str.replace(r'^\\s+|\\s+?$','')\n",
            "<ipython-input-7-8b565ef38886>:41: FutureWarning: The default value of regex will change from True to False in a future version.\n",
            "  newtweet=newtweet.str.replace(r'\\d+(\\.\\d+)?','numbr')\n"
          ]
        }
      ]
    },
    {
      "cell_type": "code",
      "source": [
        "refinedTweets = data_cleansing(test_set.tweet)   \n",
        "test_set['processed_tweets'] = refinedTweets\n",
        "# print(test_set[[\"tweet\",\"processed_tweets\"]].head(10))"
      ],
      "metadata": {
        "colab": {
          "base_uri": "https://localhost:8080/"
        },
        "id": "mLMGTC-xAKo8",
        "outputId": "51b46a44-0707-428a-f4fb-c5741ee83fbe"
      },
      "execution_count": 12,
      "outputs": [
        {
          "output_type": "stream",
          "name": "stderr",
          "text": [
            "<ipython-input-7-8b565ef38886>:35: FutureWarning: The default value of regex will change from True to False in a future version.\n",
            "  puncRefined = tweets.str.replace(\"[^a-zA-Z]\", \" \")\n",
            "<ipython-input-7-8b565ef38886>:37: FutureWarning: The default value of regex will change from True to False in a future version.\n",
            "  newtweet = puncRefined.str.replace(r'\\s+', ' ')\n",
            "<ipython-input-7-8b565ef38886>:39: FutureWarning: The default value of regex will change from True to False in a future version.\n",
            "  newtweet = newtweet.str.replace(r'^\\s+|\\s+?$','')\n",
            "<ipython-input-7-8b565ef38886>:41: FutureWarning: The default value of regex will change from True to False in a future version.\n",
            "  newtweet=newtweet.str.replace(r'\\d+(\\.\\d+)?','numbr')\n"
          ]
        }
      ]
    },
    {
      "cell_type": "code",
      "source": [
        "print(dev_tweets.shape)\n",
        "print(dev_sexism.shape)"
      ],
      "metadata": {
        "colab": {
          "base_uri": "https://localhost:8080/"
        },
        "id": "ZZp9sY8wXxiF",
        "outputId": "d2f78d06-320f-4347-ee27-22e188062611"
      },
      "execution_count": 13,
      "outputs": [
        {
          "output_type": "stream",
          "name": "stdout",
          "text": [
            "(488, 4)\n",
            "(194, 4)\n"
          ]
        }
      ]
    },
    {
      "cell_type": "code",
      "source": [
        "frame1 = [dev_tweets.head(244), df_tweets]\n",
        "frame2 = [dev_sexism.head(97), df_sexism]"
      ],
      "metadata": {
        "id": "RV6qtU7oA1wj"
      },
      "execution_count": 14,
      "outputs": []
    },
    {
      "cell_type": "code",
      "source": [
        "mergedDataOfTweets = pd.concat(frame1)\n",
        "mergedDataOfSexism = pd.concat(frame2)"
      ],
      "metadata": {
        "id": "_P0TsEZhYjn3"
      },
      "execution_count": 15,
      "outputs": []
    },
    {
      "cell_type": "code",
      "source": [
        "mergedDataOfTweets.shape"
      ],
      "metadata": {
        "colab": {
          "base_uri": "https://localhost:8080/"
        },
        "id": "RYezDusaZhNR",
        "outputId": "defad60b-2eba-463d-e29c-ccd7c0b3629b"
      },
      "execution_count": 16,
      "outputs": [
        {
          "output_type": "execute_result",
          "data": {
            "text/plain": [
              "(3503, 4)"
            ]
          },
          "metadata": {},
          "execution_count": 16
        }
      ]
    },
    {
      "cell_type": "code",
      "source": [
        "mergedDataOfSexism.shape"
      ],
      "metadata": {
        "colab": {
          "base_uri": "https://localhost:8080/"
        },
        "id": "iheC2na1Zq95",
        "outputId": "2f92f458-2d22-46d0-ce90-a5f64905ee8c"
      },
      "execution_count": 17,
      "outputs": [
        {
          "output_type": "execute_result",
          "data": {
            "text/plain": [
              "(1233, 4)"
            ]
          },
          "metadata": {},
          "execution_count": 17
        }
      ]
    },
    {
      "cell_type": "code",
      "source": [
        "mergedDataOfTweets = mergedDataOfTweets[mergedDataOfTweets['label'] != -1]\n",
        "# df_tweets['label'].value_counts()\n",
        "\n",
        "mergedDataOfSexism = mergedDataOfSexism[mergedDataOfSexism['label'] != \"-1\"]\n",
        "# df_sexism['label'].value_counts()\n",
        "\n",
        "mergedDataOfSexism['label']=mergedDataOfSexism['label'].replace('IDEOLOGICAL-INEQUALITY', 0)\n",
        "mergedDataOfSexism['label']=mergedDataOfSexism['label'].replace('STEREOTYPING-DOMINANCE', 1)\n",
        "mergedDataOfSexism['label']=mergedDataOfSexism['label'].replace('OBJECTIFICATION', 2)\n",
        "mergedDataOfSexism['label']=mergedDataOfSexism['label'].replace('MISOGYNY-NON-SEXUAL-VIOLENCE', 3)\n",
        "mergedDataOfSexism['label']=mergedDataOfSexism['label'].replace('SEXUAL-VIOLENCE', 4)\n",
        "# mergedDataOfSexism['label'].value_counts()"
      ],
      "metadata": {
        "id": "DXp0UkzeYhBe"
      },
      "execution_count": null,
      "outputs": []
    },
    {
      "cell_type": "code",
      "source": [
        "mergedDataOfTweets['label'].value_counts()"
      ],
      "metadata": {
        "colab": {
          "base_uri": "https://localhost:8080/"
        },
        "id": "QoLcV6K9ZyAR",
        "outputId": "983bb03e-502f-4c8b-f498-ec019e4d6300"
      },
      "execution_count": 19,
      "outputs": [
        {
          "output_type": "execute_result",
          "data": {
            "text/plain": [
              "0    1859\n",
              "1    1231\n",
              "Name: label, dtype: int64"
            ]
          },
          "metadata": {},
          "execution_count": 19
        }
      ]
    },
    {
      "cell_type": "code",
      "source": [
        "mergedDataOfSexism['label'].value_counts()"
      ],
      "metadata": {
        "colab": {
          "base_uri": "https://localhost:8080/"
        },
        "id": "uoP27rzVZ_sU",
        "outputId": "d7fb521c-739c-4034-9b6c-ca152cb2a97e"
      },
      "execution_count": 20,
      "outputs": [
        {
          "output_type": "execute_result",
          "data": {
            "text/plain": [
              "0    446\n",
              "1    309\n",
              "2    216\n",
              "3    128\n",
              "4    112\n",
              "Name: label, dtype: int64"
            ]
          },
          "metadata": {},
          "execution_count": 20
        }
      ]
    },
    {
      "cell_type": "markdown",
      "source": [
        "# Sexism Identification"
      ],
      "metadata": {
        "id": "vjmuw6CDK3xV"
      }
    },
    {
      "cell_type": "code",
      "source": [
        "from sklearn.feature_extraction.text import TfidfVectorizer\n",
        "from sklearn.model_selection import train_test_split\n",
        "from sklearn.metrics import classification_report\n",
        "\n",
        "tfidf_vectorizer = TfidfVectorizer(ngram_range=(1, 2),max_df=0.75, min_df=5, max_features=10000)\n",
        "tfidf = tfidf_vectorizer.fit_transform(mergedDataOfTweets['processed_tweets'])\n",
        "\n",
        "print(tfidf.shape)\n",
        "\n",
        "X = tfidf\n",
        "y = mergedDataOfTweets['label'].astype(int)\n",
        "X_train_tfidf, X_test_tfidf, y_train, y_test = train_test_split(X, y, random_state=42, test_size=0.1)"
      ],
      "metadata": {
        "colab": {
          "base_uri": "https://localhost:8080/"
        },
        "id": "PxMXSFRyBKsV",
        "outputId": "c5b180a8-0a98-45b5-95ed-989aed338693"
      },
      "execution_count": 48,
      "outputs": [
        {
          "output_type": "stream",
          "name": "stdout",
          "text": [
            "(3090, 1749)\n"
          ]
        }
      ]
    },
    {
      "cell_type": "markdown",
      "source": [
        "## Random Forest"
      ],
      "metadata": {
        "id": "eHvH2c9xK9yv"
      }
    },
    {
      "cell_type": "code",
      "source": [
        "from sklearn.ensemble import RandomForestClassifier\n",
        "from sklearn.metrics import accuracy_score\n",
        "import pickle\n",
        "\n",
        "\n",
        "rf=RandomForestClassifier()\n",
        "rf.fit(X_train_tfidf,y_train)\n",
        "y_preds = rf.predict(X_test_tfidf)\n",
        "\n",
        "\n",
        "rFacc = 100 * accuracy_score(y_test, y_preds)\n",
        "pickle.dump(rf, open('RF_Task1.pkl', 'wb'))"
      ],
      "metadata": {
        "id": "P1eurn5zBQDL"
      },
      "execution_count": 49,
      "outputs": []
    },
    {
      "cell_type": "code",
      "source": [
        "pickled_model = pickle.load(open('RF_Task1.pkl', 'rb'))\n",
        "y_preds = pickled_model.predict(X_test_tfidf)\n",
        "# report = classification_report( y_test, y_preds )\n",
        "# print(report)"
      ],
      "metadata": {
        "id": "ZeqxguTSCPTP"
      },
      "execution_count": 50,
      "outputs": []
    },
    {
      "cell_type": "markdown",
      "source": [
        "### Evaluation-Confusion Matrix"
      ],
      "metadata": {
        "id": "gn1ncAwK0ntS"
      }
    },
    {
      "cell_type": "code",
      "source": [
        "from sklearn.metrics import confusion_matrix\n",
        "import matplotlib.pyplot as plt\n",
        " \n",
        "conf_matrix = confusion_matrix(y_true=y_test, y_pred=y_preds)\n",
        "\n",
        "fig, ax = plt.subplots(figsize=(7.5, 7.5))\n",
        "ax.matshow(conf_matrix, cmap=plt.cm.Blues, alpha=0.3)\n",
        "for i in range(conf_matrix.shape[0]):\n",
        "    for j in range(conf_matrix.shape[1]):\n",
        "        ax.text(x=j, y=i,s=conf_matrix[i, j], va='center', ha='center', size='xx-large')\n",
        " \n",
        "plt.xlabel('Predictions', fontsize=18)\n",
        "plt.ylabel('Actuals', fontsize=18)\n",
        "plt.title('Random Classifier-Confusion Matrix', fontsize=18)\n",
        "plt.show()"
      ],
      "metadata": {
        "colab": {
          "base_uri": "https://localhost:8080/",
          "height": 699
        },
        "id": "Xt2cNBzs0m-y",
        "outputId": "326a8007-3572-40cf-a1cc-9af5d272ed24"
      },
      "execution_count": 51,
      "outputs": [
        {
          "output_type": "display_data",
          "data": {
            "text/plain": [
              "<Figure size 750x750 with 1 Axes>"
            ],
            "image/png": "[encoded data removed]"
          },
          "metadata": {}
        }
      ]
    },
    {
      "cell_type": "code",
      "source": [
        "tn, fp, fn, tp = conf_matrix.ravel()\n",
        " \n",
        "print(\"True Positive (TP): \", tp)\n",
        "print(\"True Negative (TN): \", tn)\n",
        "print(\"False Positive (FP): \", fp)\n",
        "print(\"False Negative (FN): \", fn)\n",
        " \n",
        "accuracy = (tp + tn) / (tp + tn + fp + fn)\n",
        " \n",
        "precision = tp / (tp + fp)\n",
        " \n",
        "recall = tp / (tp + fn)\n",
        " \n",
        "f1_score = 2 * (precision * recall) / (precision + recall)\n",
        " \n",
        "print(\"\\n\\nFormulas:\")\n",
        "print(\"Accuracy: (TP + TN) / (TP + TN + FP + FN)\")\n",
        "print(\"Precision: TP / (TP + FP)\")\n",
        "print(\"Recall: TP / (TP + FN)\")\n",
        "print(\"F1-score: 2 * (Precision * Recall) / (Precision + Recall)\")\n",
        " \n",
        "\n",
        "print(\"\\n\\nMetrics:\")\n",
        "print(\"Accuracy: \", round(accuracy, 2))\n",
        "print(\"Precision: \", round(precision, 2))\n",
        "print(\"Recall: \", round(recall, 2))\n",
        "print(\"F1-score: \", round(f1_score, 2))"
      ],
      "metadata": {
        "colab": {
          "base_uri": "https://localhost:8080/"
        },
        "id": "FxZquCQ31IgH",
        "outputId": "19a21726-5540-493b-c254-269b8e9ce886"
      },
      "execution_count": 52,
      "outputs": [
        {
          "output_type": "stream",
          "name": "stdout",
          "text": [
            "True Positive (TP):  92\n",
            "True Negative (TN):  159\n",
            "False Positive (FP):  27\n",
            "False Negative (FN):  31\n",
            "\n",
            "\n",
            "Formulas:\n",
            "Accuracy: (TP + TN) / (TP + TN + FP + FN)\n",
            "Precision: TP / (TP + FP)\n",
            "Recall: TP / (TP + FN)\n",
            "F1-score: 2 * (Precision * Recall) / (Precision + Recall)\n",
            "\n",
            "\n",
            "Metrics:\n",
            "Accuracy:  0.81\n",
            "Precision:  0.77\n",
            "Recall:  0.75\n",
            "F1-score:  0.76\n"
          ]
        }
      ]
    },
    {
      "cell_type": "markdown",
      "source": [
        "## Support Vector Machine"
      ],
      "metadata": {
        "id": "rq6m6uhKLC06"
      }
    },
    {
      "cell_type": "code",
      "source": [
        "from sklearn.svm import LinearSVC\n",
        "from sklearn.metrics import accuracy_score\n",
        "import pickle\n",
        "\n",
        "svm =LinearSVC(random_state=20)\n",
        "svm.fit(X_train_tfidf,y_train)\n",
        "y_preds = svm.predict(X_test_tfidf)\n",
        "\n",
        "\n",
        "SVMAcc= 100 * accuracy_score(y_test, y_preds)\n",
        "pickle.dump(svm, open('SVM_Task1.pkl', 'wb'))"
      ],
      "metadata": {
        "id": "pBzxRIQ6BYDv"
      },
      "execution_count": 53,
      "outputs": []
    },
    {
      "cell_type": "code",
      "source": [
        "pickled_model = pickle.load(open('SVM_Task1.pkl', 'rb'))\n",
        "y_preds = pickled_model.predict(X_test_tfidf)"
      ],
      "metadata": {
        "id": "eLFe8SgmBXHt"
      },
      "execution_count": 54,
      "outputs": []
    },
    {
      "cell_type": "markdown",
      "source": [
        "### Evluation-Confusion matrix"
      ],
      "metadata": {
        "id": "sBxAGyKl3m3I"
      }
    },
    {
      "cell_type": "code",
      "source": [
        "from sklearn.metrics import confusion_matrix\n",
        "import matplotlib.pyplot as plt\n",
        " \n",
        "conf_matrix = confusion_matrix(y_true=y_test, y_pred=y_preds)\n",
        "\n",
        "fig, ax = plt.subplots(figsize=(7.5, 7.5))\n",
        "ax.matshow(conf_matrix, cmap=plt.cm.Blues, alpha=0.3)\n",
        "for i in range(conf_matrix.shape[0]):\n",
        "    for j in range(conf_matrix.shape[1]):\n",
        "        ax.text(x=j, y=i,s=conf_matrix[i, j], va='center', ha='center', size='xx-large')\n",
        " \n",
        "plt.xlabel('Predictions', fontsize=18)\n",
        "plt.ylabel('Actuals', fontsize=18)\n",
        "plt.title('SVM Classifier-Confusion Matrix', fontsize=18)\n",
        "plt.show()"
      ],
      "metadata": {
        "colab": {
          "base_uri": "https://localhost:8080/",
          "height": 699
        },
        "id": "NQ15ET8M1sZZ",
        "outputId": "b0cf9a3f-e3df-4d90-9a5d-4421d09eb17e"
      },
      "execution_count": 55,
      "outputs": [
        {
          "output_type": "display_data",
          "data": {
            "text/plain": [
              "<Figure size 750x750 with 1 Axes>"
            ],
            "image/png": "[encoded data removed]"
          },
          "metadata": {}
        }
      ]
    },
    {
      "cell_type": "code",
      "source": [
        "tn, fp, fn, tp = conf_matrix.ravel()\n",
        " \n",
        "print(\"True Positive (TP): \", tp)\n",
        "print(\"True Negative (TN): \", tn)\n",
        "print(\"False Positive (FP): \", fp)\n",
        "print(\"False Negative (FN): \", fn)\n",
        " \n",
        "accuracy = (tp + tn) / (tp + tn + fp + fn)\n",
        " \n",
        "precision = tp / (tp + fp)\n",
        " \n",
        "recall = tp / (tp + fn)\n",
        " \n",
        "f1_score = 2 * (precision * recall) / (precision + recall)\n",
        " \n",
        "print(\"\\n\\nFormulas:\")\n",
        "print(\"Accuracy: (TP + TN) / (TP + TN + FP + FN)\")\n",
        "print(\"Precision: TP / (TP + FP)\")\n",
        "print(\"Recall: TP / (TP + FN)\")\n",
        "print(\"F1-score: 2 * (Precision * Recall) / (Precision + Recall)\")\n",
        " \n",
        "\n",
        "print(\"\\n\\nMetrics:\")\n",
        "print(\"Accuracy: \", round(accuracy, 2))\n",
        "print(\"Precision: \", round(precision, 2))\n",
        "print(\"Recall: \", round(recall, 2))\n",
        "print(\"F1-score: \", round(f1_score, 2))"
      ],
      "metadata": {
        "colab": {
          "base_uri": "https://localhost:8080/"
        },
        "id": "Nk_MbE8r1xfV",
        "outputId": "ec2741dd-6520-4a89-dc30-e867eb6ecfb0"
      },
      "execution_count": 56,
      "outputs": [
        {
          "output_type": "stream",
          "name": "stdout",
          "text": [
            "True Positive (TP):  92\n",
            "True Negative (TN):  155\n",
            "False Positive (FP):  31\n",
            "False Negative (FN):  31\n",
            "\n",
            "\n",
            "Formulas:\n",
            "Accuracy: (TP + TN) / (TP + TN + FP + FN)\n",
            "Precision: TP / (TP + FP)\n",
            "Recall: TP / (TP + FN)\n",
            "F1-score: 2 * (Precision * Recall) / (Precision + Recall)\n",
            "\n",
            "\n",
            "Metrics:\n",
            "Accuracy:  0.8\n",
            "Precision:  0.75\n",
            "Recall:  0.75\n",
            "F1-score:  0.75\n"
          ]
        }
      ]
    },
    {
      "cell_type": "markdown",
      "source": [
        "## Accuracy comparison of both models"
      ],
      "metadata": {
        "id": "yB7259EmLIcF"
      }
    },
    {
      "cell_type": "code",
      "source": [
        "import numpy as np\n",
        "import matplotlib.pyplot as plt\n",
        "\n",
        "\n",
        "# creating the dataset\n",
        "data = {'RandomForest':rFacc, 'Support Vector Machine':SVMAcc, }\n",
        "courses = list(data.keys())\n",
        "values = list(data.values())\n",
        "\n",
        "fig = plt.figure(figsize = (10, 5))\n",
        "\n",
        "# creating the bar plot\n",
        "plt.bar(courses, values, color ='maroon',\n",
        "\t\twidth = 0.4)\n",
        "\n",
        "plt.xlabel(\"Algorithm Comparison\")\n",
        "plt.ylabel(\"Accuracy\")\n",
        "plt.title(\"Sexism Identification using Random forest and Support Vector Machine\")\n",
        "plt.show()\n"
      ],
      "metadata": {
        "colab": {
          "base_uri": "https://localhost:8080/",
          "height": 487
        },
        "id": "wdvm6gRRC1K9",
        "outputId": "084b4226-2eb4-4696-f519-4ccfbd1dc71f"
      },
      "execution_count": 37,
      "outputs": [
        {
          "output_type": "display_data",
          "data": {
            "text/plain": [
              "<Figure size 1000x500 with 1 Axes>"
            ],
            "image/png": "[encoded data removed]"
          },
          "metadata": {}
        }
      ]
    },
    {
      "cell_type": "markdown",
      "source": [
        "## Model prediction on unseen data ( Test Set )"
      ],
      "metadata": {
        "id": "h3JosgXLdYVt"
      }
    },
    {
      "cell_type": "code",
      "source": [
        "sexismCategorization = []\n",
        "\n",
        "result_Task1_Both_Labels = [] \n",
        "for id, tweets in test_set.iterrows():\n",
        "  Test = tfidf_vectorizer.transform(np.array([str(tweets['processed_tweets'])]))\n",
        "  hardLabel = rf.predict(Test)\n",
        "  softLabel = rf.predict_proba(Test)\n",
        "  \n",
        "  if hardLabel[0] == 1:\n",
        "    sexismCategorization.append([tweets.id, tweets['processed_tweets']])\n",
        "\n",
        "  sub = {\n",
        "      str(tweets.id):\n",
        "      {\n",
        "        \"Hard Label\": \"Yes\" if hardLabel[0] == 1 else \"NO\",\n",
        "        \"Soft Label\": {\"Yes\":softLabel[0][1], \"No\": softLabel[0][0] }\n",
        "      }\n",
        "  }\n",
        "  result_Task1_Both_Labels.append(sub)\n",
        "\n",
        "import json\n",
        "\n",
        "with open('Test_set Task 1.json', 'w') as f:\n",
        "  json.dump(result_Task1_Both_Labels ,f)\n"
      ],
      "metadata": {
        "id": "1p-RhnwXdYAv"
      },
      "execution_count": 38,
      "outputs": []
    },
    {
      "cell_type": "markdown",
      "source": [
        "# Sexism Categorization"
      ],
      "metadata": {
        "id": "P4-kNm0pLP-2"
      }
    },
    {
      "cell_type": "code",
      "source": [
        "from sklearn.feature_extraction.text import TfidfVectorizer\n",
        "from sklearn.model_selection import train_test_split\n",
        "from sklearn.metrics import classification_report\n",
        "\n",
        "tfidf_vectorizer = TfidfVectorizer(ngram_range=(1, 2),max_df=0.75, min_df=5, max_features=10000)\n",
        "tfidf = tfidf_vectorizer.fit_transform(mergedDataOfSexism['processed_tweets'])\n",
        "\n",
        "print(tfidf.shape)\n",
        "X = tfidf\n",
        "y = mergedDataOfSexism['label'].astype(int)\n",
        "X_train_tfidf, X_test_tfidf, y_train, y_test = train_test_split(X, y, random_state=42, test_size=0.1)"
      ],
      "metadata": {
        "colab": {
          "base_uri": "https://localhost:8080/"
        },
        "id": "0i9LqLfHC8gb",
        "outputId": "cb345c8f-b3b3-4450-d83b-01a4d6e743fc"
      },
      "execution_count": 32,
      "outputs": [
        {
          "output_type": "stream",
          "name": "stdout",
          "text": [
            "(1211, 796)\n"
          ]
        }
      ]
    },
    {
      "cell_type": "markdown",
      "source": [
        "## Random Forest"
      ],
      "metadata": {
        "id": "cQeE0cNgLWOW"
      }
    },
    {
      "cell_type": "code",
      "source": [
        "from sklearn.ensemble import RandomForestClassifier\n",
        "from sklearn.metrics import f1_score\n",
        "import pickle\n",
        "\n",
        "\n",
        "rf=RandomForestClassifier()\n",
        "rf.fit(X_train_tfidf,y_train)\n",
        "y_preds = rf.predict(X_test_tfidf)\n",
        "\n",
        "\n",
        "rFscore = f1_score(y_test, y_preds, average=\"micro\")\n",
        "pickle.dump(rf, open('RF_Task3.pkl', 'wb'))"
      ],
      "metadata": {
        "id": "ito5jEjKDvyu"
      },
      "execution_count": 33,
      "outputs": []
    },
    {
      "cell_type": "code",
      "source": [
        "pickled_model = pickle.load(open('RF_Task3.pkl', 'rb'))\n",
        "y_preds = pickled_model.predict(X_test_tfidf)"
      ],
      "metadata": {
        "id": "LS-cLGq6D0ns"
      },
      "execution_count": 34,
      "outputs": []
    },
    {
      "cell_type": "markdown",
      "source": [
        "### Evaluation- Confusion Matrix"
      ],
      "metadata": {
        "id": "nagMtSWr3YFe"
      }
    },
    {
      "cell_type": "code",
      "source": [
        "from mlxtend.plotting import plot_confusion_matrix\n",
        " \n",
        "fig, ax = plot_confusion_matrix(conf_mat=conf_matrix, figsize=(6, 6), cmap=plt.cm.Greens)\n",
        "plt.xlabel('Predictions', fontsize=18)\n",
        "plt.ylabel('Actuals', fontsize=18)\n",
        "plt.title('Random Classifier-Confusion Matrix', fontsize=18)\n",
        "plt.show()"
      ],
      "metadata": {
        "colab": {
          "base_uri": "https://localhost:8080/",
          "height": 579
        },
        "id": "2NN3mjwh2FjS",
        "outputId": "3fa295f7-81a9-4928-9362-02d8bc59807a"
      },
      "execution_count": 41,
      "outputs": [
        {
          "output_type": "display_data",
          "data": {
            "text/plain": [
              "<Figure size 600x600 with 1 Axes>"
            ],
            "image/png": "[encoded data removed]"
          },
          "metadata": {}
        }
      ]
    },
    {
      "cell_type": "code",
      "source": [
        "report = classification_report( y_test, y_preds)\n",
        "print(report)"
      ],
      "metadata": {
        "colab": {
          "base_uri": "https://localhost:8080/"
        },
        "id": "EOWr36zy1936",
        "outputId": "7024235a-2e07-4ea6-bdbe-9cc86098d7c6"
      },
      "execution_count": 39,
      "outputs": [
        {
          "output_type": "stream",
          "name": "stdout",
          "text": [
            "              precision    recall  f1-score   support\n",
            "\n",
            "           0       0.55      0.72      0.62        46\n",
            "           1       0.43      0.34      0.38        35\n",
            "           2       0.40      0.38      0.39        21\n",
            "           3       0.50      0.38      0.43        13\n",
            "           4       0.25      0.14      0.18         7\n",
            "\n",
            "    accuracy                           0.48       122\n",
            "   macro avg       0.43      0.39      0.40       122\n",
            "weighted avg       0.47      0.48      0.47       122\n",
            "\n"
          ]
        }
      ]
    },
    {
      "cell_type": "markdown",
      "source": [
        "## Support Vector Machine"
      ],
      "metadata": {
        "id": "qzeCmmj2Laxf"
      }
    },
    {
      "cell_type": "code",
      "source": [
        "from sklearn.svm import LinearSVC\n",
        "from sklearn.metrics import f1_score\n",
        "import pickle\n",
        "\n",
        "svm =LinearSVC(random_state=20)\n",
        "svm.fit(X_train_tfidf,y_train)\n",
        "y_preds = svm.predict(X_test_tfidf)\n",
        "\n",
        "\n",
        "SVMscore= f1_score(y_test, y_preds, average='micro')\n",
        "pickle.dump(svm, open('SVM_Task3.pkl', 'wb'))"
      ],
      "metadata": {
        "id": "JeGxmdh_EYCT"
      },
      "execution_count": 42,
      "outputs": []
    },
    {
      "cell_type": "code",
      "source": [
        "pickled_model = pickle.load(open('SVM_Task3.pkl', 'rb'))\n",
        "y_preds = pickled_model.predict(X_test_tfidf)\n"
      ],
      "metadata": {
        "id": "f-5cjOveEwNd"
      },
      "execution_count": 43,
      "outputs": []
    },
    {
      "cell_type": "markdown",
      "source": [
        "### Evaluation-Confusion Matrix"
      ],
      "metadata": {
        "id": "lJRZhfi729o1"
      }
    },
    {
      "cell_type": "code",
      "source": [
        "from mlxtend.plotting import plot_confusion_matrix\n",
        " \n",
        "fig, ax = plot_confusion_matrix(conf_mat=conf_matrix, figsize=(6, 6), cmap=plt.cm.Greens)\n",
        "plt.xlabel('Predictions', fontsize=18)\n",
        "plt.ylabel('Actuals', fontsize=18)\n",
        "plt.title('SVM Classifier-Confusion Matrix', fontsize=18)\n",
        "plt.show()"
      ],
      "metadata": {
        "colab": {
          "base_uri": "https://localhost:8080/",
          "height": 579
        },
        "id": "0r8QrZVg2he1",
        "outputId": "425606e0-bb61-4ea6-ebfd-dc2e03e0ac1c"
      },
      "execution_count": 44,
      "outputs": [
        {
          "output_type": "display_data",
          "data": {
            "text/plain": [
              "<Figure size 600x600 with 1 Axes>"
            ],
            "image/png": "[encoded data removed]"
          },
          "metadata": {}
        }
      ]
    },
    {
      "cell_type": "code",
      "source": [
        "report = classification_report( y_test, y_preds)\n",
        "print(report)"
      ],
      "metadata": {
        "colab": {
          "base_uri": "https://localhost:8080/"
        },
        "id": "3_JX13NX2hNM",
        "outputId": "800ecba8-f4bb-41cb-b540-2635edb852aa"
      },
      "execution_count": 45,
      "outputs": [
        {
          "output_type": "stream",
          "name": "stdout",
          "text": [
            "              precision    recall  f1-score   support\n",
            "\n",
            "           0       0.55      0.72      0.62        46\n",
            "           1       0.43      0.34      0.38        35\n",
            "           2       0.40      0.38      0.39        21\n",
            "           3       0.50      0.38      0.43        13\n",
            "           4       0.25      0.14      0.18         7\n",
            "\n",
            "    accuracy                           0.48       122\n",
            "   macro avg       0.43      0.39      0.40       122\n",
            "weighted avg       0.47      0.48      0.47       122\n",
            "\n"
          ]
        }
      ]
    },
    {
      "cell_type": "markdown",
      "source": [
        "## Comparison of F1 Score of both models"
      ],
      "metadata": {
        "id": "12TXfPspLl_3"
      }
    },
    {
      "cell_type": "code",
      "source": [
        "print(\"Random Forest: F1 Score \", rFscore)\n",
        "print(\"SVM: F1 Score \", SVMscore)"
      ],
      "metadata": {
        "colab": {
          "base_uri": "https://localhost:8080/"
        },
        "id": "IfLXuTDSFOLX",
        "outputId": "c2977fe4-ae21-4b35-bf95-78fd5b39619a"
      },
      "execution_count": 44,
      "outputs": [
        {
          "output_type": "stream",
          "name": "stdout",
          "text": [
            "Random Forest: F1 Score  0.5491803278688525\n",
            "SVM: F1 Score  0.48360655737704916\n"
          ]
        }
      ]
    },
    {
      "cell_type": "markdown",
      "source": [
        "## Model prediction on unseen data (Test Set)"
      ],
      "metadata": {
        "id": "p1aUeTugcpa5"
      }
    },
    {
      "cell_type": "code",
      "source": [
        "task3_Sexism_Category = list()\n",
        "\n",
        "for id, tweet in sexismCategorization:\n",
        "  Test = tfidf_vectorizer.transform(np.array([str(tweet)]))\n",
        "  hardLabel = rf.predict(Test)\n",
        "  softLabel = rf.predict_proba(Test)\n",
        "\n",
        "  sub = {\n",
        "      str(id):\n",
        "      {\n",
        "        \"Hard Label\": \"IDEOLOGICAL-INEQUALITY\" if hardLabel[0] == 0 else \"STEREOTYPING-DOMINANCE\" if hardLabel[0] == 1 else \"OBJECTIFICATION\" if hardLabel[0] == 2 else \"MISOGYNY-NON-SEXUAL-VIOLENCE\" if hardLabel[0] == 3 else \"SEXUAL-VIOLENCE\",\n",
        "        \"Soft Label\": {\"IDEOLOGICAL-INEQUALITY\":round(softLabel[0][0],3), \"STEREOTYPING-DOMINANCE\": round(softLabel[0][1],3), \"OBJECTIFICATION\": round(softLabel[0][2],3), \"MISOGYNY-NON-SEXUAL-VIOLENCE\": round(softLabel[0][3],3), \"SEXUAL-VIOLENCE\": round(softLabel[0][3],3) }\n",
        "      }\n",
        "  }\n",
        "\n",
        "  task3_Sexism_Category.append(sub)\n",
        "\n",
        "import json\n",
        "\n",
        "with open('Task 3.json', 'w') as f:\n",
        "  json.dump(task3_Sexism_Category ,f)"
      ],
      "metadata": {
        "id": "fh02ebBqcX4T"
      },
      "execution_count": 45,
      "outputs": []
    }
  ]
}